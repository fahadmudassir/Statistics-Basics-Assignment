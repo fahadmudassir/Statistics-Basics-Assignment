{
  "nbformat": 4,
  "nbformat_minor": 0,
  "metadata": {
    "colab": {
      "provenance": []
    },
    "kernelspec": {
      "name": "python3",
      "display_name": "Python 3"
    },
    "language_info": {
      "name": "python"
    }
  },
  "cells": [
    {
      "cell_type": "code",
      "execution_count": null,
      "metadata": {
        "id": "9yazmLeLo9Px"
      },
      "outputs": [],
      "source": []
    },
    {
      "cell_type": "markdown",
      "source": [
        "Question 1: What is the difference between descriptive statistics and inferential statistics? Explain with examples.\n",
        "\n",
        "\n",
        "Descriptive Statistics\n",
        "Describes and summarizes actual data.\n",
        "\n",
        "Example: The average height of 50 students is 5.6 feet.\n",
        "\n",
        "Tools: Mean, median, mode, charts.\n",
        "\n",
        "Inferential Statistics\n",
        "Makes predictions or generalizations about a larger population using a sample.\n",
        "\n",
        "Example: Based on 100 voters, we predict 60% of the whole city will vote for candidate x.\n",
        "\n",
        "Tools: Hypothesis testing, confidence intervals, t-tests.\n",
        "\n",
        "\n",
        "\n",
        "Question 2: What is sampling in statistics? Explain the differences between random and stratified sampling.\n",
        "\n",
        "Random Sampling:\n",
        "Everyone has an equal chance of being selected.\n",
        "\n",
        "Example: Pick 50 students randomly from the whole school.\n",
        "\n",
        "Stratified Sampling:\n",
        "Population is divided into groups (strata), and a sample is taken from each group.\n",
        "\n",
        "Example: Pick students from each grade/class to ensure fair representation.\n",
        "\n",
        "\n",
        "\n",
        "Question 3: Define mean, median, and mode. Explain why these measures of central\n",
        "tendency are important.\n",
        "\n",
        "\n",
        "\n",
        "1. Mean (Average):\n",
        "Definition: Sum of all values ÷ Number of values\n",
        "\n",
        "Example: (10 + 20 + 30) ÷ 3 = 20\n",
        "\n",
        "Use: Shows the overall average value.\n",
        "\n",
        " 2. Median:\n",
        "Definition: The middle value when data is arranged in order\n",
        "\n",
        "Example: 10, 20, 30 → Median = 20\n",
        "\n",
        "Use: Best when data has extreme values (outliers).\n",
        "\n",
        " 3. Mode:\n",
        "Definition: The value that appears most often\n",
        "\n",
        "Example: 10, 20, 20, 30 → Mode = 20\n",
        "\n",
        "Use: Useful for finding common trends.\n",
        "\n",
        "\n",
        "\n",
        "Question 4: Explain skewness and kurtosis. What does a positive skew imply about the data?\n",
        "\n",
        "\n",
        " Skewness  Tells the tilt of data\n",
        "\n",
        "Positive Skew: Tail on right, few high values,\n",
        "Mean > Median\n",
        "Example: Income  few rich people pull average up\n",
        "\n",
        " Kurtosis  Tells the peak and outliers\n",
        "\n",
        "High Kurtosis: Sharp peak, more outliers\n",
        "\n",
        "Low Kurtosis: Flat peak, fewer outliers"
      ],
      "metadata": {
        "id": "MsGTg_EppVkb"
      }
    },
    {
      "cell_type": "code",
      "source": [
        "# Question 5: Implement a Python program to compute the mean, median, and mode of\n",
        "# a given list of numbers\n",
        "\n",
        "import statistics\n",
        "\n",
        "numbers = [12, 15, 12, 18, 19, 12, 20, 22, 19, 19, 24, 24, 24, 26, 28]\n",
        "\n",
        "# Calculate Mean\n",
        "mean = statistics.mean(numbers)\n",
        "\n",
        "# Calculate Median\n",
        "median = statistics.median(numbers)\n",
        "\n",
        "# Calculate Mode\n",
        "mode = statistics.mode(numbers)\n",
        "\n",
        "# Print Results\n",
        "print(\"Mean:\", mean)\n",
        "print(\"Median:\", median)\n",
        "print(\"Mode:\", mode)"
      ],
      "metadata": {
        "colab": {
          "base_uri": "https://localhost:8080/"
        },
        "id": "21w8d5hdqrSU",
        "outputId": "1728bcdd-181d-4233-fae1-f58cc944156a"
      },
      "execution_count": 3,
      "outputs": [
        {
          "output_type": "stream",
          "name": "stdout",
          "text": [
            "Mean: 19.6\n",
            "Median: 19\n",
            "Mode: 12\n"
          ]
        }
      ]
    },
    {
      "cell_type": "code",
      "source": [
        "# Question 6: Compute the covariance and correlation coefficient between the following\n",
        "\n",
        "import numpy as np\n",
        "\n",
        "list_x = [10, 20, 30, 40, 50]\n",
        "list_y = [15, 25, 35, 45, 60]\n",
        "\n",
        "# Convert lists to NumPy arrays\n",
        "x = np.array(list_x)\n",
        "y = np.array(list_y)\n",
        "\n",
        "# Calculate Covariance Matrix\n",
        "cov_matrix = np.cov(x, y, bias=False)\n",
        "covariance = cov_matrix[0, 1]\n",
        "\n",
        "# Calculate Correlation Coefficient\n",
        "correlation = np.corrcoef(x, y)[0, 1]\n",
        "\n",
        "# Print Results\n",
        "print(\"Covariance:\", covariance)\n",
        "print(\"Correlation Coefficient:\", correlation)\n"
      ],
      "metadata": {
        "colab": {
          "base_uri": "https://localhost:8080/"
        },
        "id": "xdf3UUsErLWX",
        "outputId": "3b3595a1-6920-471d-cefc-9b3084ebf289"
      },
      "execution_count": 4,
      "outputs": [
        {
          "output_type": "stream",
          "name": "stdout",
          "text": [
            "Covariance: 275.0\n",
            "Correlation Coefficient: 0.995893206467704\n"
          ]
        }
      ]
    },
    {
      "cell_type": "code",
      "source": [
        "# Question 7: Write a Python script to draw a boxplot for the following numeric list and\n",
        "# identify its outliers. Explain the result:\n",
        "# data = [12, 14, 14, 15, 18, 19, 19, 21, 22, 22, 23, 23, 24, 26, 29, 35]\n",
        "\n",
        "import matplotlib.pyplot as plt\n",
        "\n",
        "data = [12, 14, 14, 15, 18, 19, 19, 21, 22, 22, 23, 23, 24, 26, 29, 35]\n",
        "\n",
        "plt.boxplot(data)\n",
        "plt.title(\"Boxplot of Data\")\n",
        "plt.ylabel(\"Values\")\n",
        "plt.grid(True)\n",
        "plt.show()\n"
      ],
      "metadata": {
        "colab": {
          "base_uri": "https://localhost:8080/",
          "height": 452
        },
        "id": "IMwFGXPhrZbu",
        "outputId": "1ac8f783-a163-48a7-8145-e93f6cf38c76"
      },
      "execution_count": 5,
      "outputs": [
        {
          "output_type": "display_data",
          "data": {
            "text/plain": [
              "<Figure size 640x480 with 1 Axes>"
            ],
            "image/png": "[encoded data removed]"
          },
          "metadata": {}
        }
      ]
    },
    {
      "cell_type": "markdown",
      "source": [
        "Question 8: You are working as a data analyst in an e-commerce company. The\n",
        "marketing team wants to know if there is a relationship between advertising spend and daily sales.\n",
        "\n",
        "🔸 1. Covariance\n",
        "Measures how two variables change together.\n",
        "\n",
        "Positive covariance = both increase together\n",
        "\n",
        "Negative covariance = one increases, other decreases\n",
        "\n",
        "But it does not tell the strength or scale-independent relationship.\n",
        "\n",
        "🔸 2. Correlation (Pearson)\n",
        "Measures strength and direction of the relationship.\n",
        "\n",
        "Range: -1 to +1\n",
        "\n",
        "+1 = strong positive relationship\n",
        "\n",
        "0 = no relationship\n",
        "\n",
        "-1 = strong negative relationship\n",
        "\n",
        "Better than covariance for comparing relationships."
      ],
      "metadata": {
        "id": "xiUT0msMryn_"
      }
    },
    {
      "cell_type": "code",
      "source": [
        "import numpy as np\n",
        "\n",
        "# Given data\n",
        "advertising_spend = [200, 250, 300, 400, 500]\n",
        "daily_sales = [2200, 2450, 2750, 3200, 4000]\n",
        "\n",
        "# Convert to numpy arrays\n",
        "x = np.array(advertising_spend)\n",
        "y = np.array(daily_sales)\n",
        "\n",
        "# Covariance\n",
        "cov_matrix = np.cov(x, y, bias=False)\n",
        "covariance = cov_matrix[0, 1]\n",
        "\n",
        "# Correlation Coefficient\n",
        "correlation = np.corrcoef(x, y)[0, 1]\n",
        "\n",
        "# Results\n",
        "print(\"Covariance:\", covariance)\n",
        "print(\"Correlation Coefficient:\", correlation)\n"
      ],
      "metadata": {
        "colab": {
          "base_uri": "https://localhost:8080/"
        },
        "id": "L9P4K1M-r5IB",
        "outputId": "1b93c429-5ef4-43b6-9f69-05580ff5be92"
      },
      "execution_count": 6,
      "outputs": [
        {
          "output_type": "stream",
          "name": "stdout",
          "text": [
            "Covariance: 84875.0\n",
            "Correlation Coefficient: 0.9935824101653329\n"
          ]
        }
      ]
    },
    {
      "cell_type": "markdown",
      "source": [
        "Question 9: Your team has collected customer satisfaction survey data on a scale of 1-10 and wants to understand its distribution before launching a new product.\n",
        "\n",
        " Summary Statistics to Use:\n",
        "Mean – Average score\n",
        "\n",
        "Median – Middle value\n",
        "\n",
        "Mode – Most frequent score\n",
        "\n",
        "Standard Deviation – Spread of scores\n",
        "\n",
        "Min & Max – Range\n",
        "\n",
        "🔹 Visualizations:\n",
        "Histogram – Shows score distribution\n",
        "\n",
        "Boxplot – Detects outliers\n",
        "\n",
        "Bar Chart – Frequency of scores"
      ],
      "metadata": {
        "id": "oKysR3uZsKpl"
      }
    },
    {
      "cell_type": "code",
      "source": [
        "import matplotlib.pyplot as plt\n",
        "\n",
        "survey_scores = [7, 8, 5, 9, 6, 7, 8, 9, 10, 4, 7, 6, 9, 8, 7]\n",
        "\n",
        "plt.hist(survey_scores, bins=6, edgecolor='black')\n",
        "plt.title(\"Customer Satisfaction Histogram\")\n",
        "plt.xlabel(\"Score\")\n",
        "plt.ylabel(\"Frequency\")\n",
        "plt.grid(True)\n",
        "plt.show()\n"
      ],
      "metadata": {
        "id": "t4q7GSLDsQaY",
        "outputId": "1a2e6aa0-3a12-47ae-bfa3-526a42235a94",
        "colab": {
          "base_uri": "https://localhost:8080/",
          "height": 472
        }
      },
      "execution_count": 7,
      "outputs": [
        {
          "output_type": "display_data",
          "data": {
            "text/plain": [
              "<Figure size 640x480 with 1 Axes>"
            ],
            "image/png": "[encoded data removed]"
          },
          "metadata": {}
        }
      ]
    }
  ]
}